{
 "cells": [
  {
   "cell_type": "code",
   "execution_count": 2,
   "id": "979bfdb0-f0b3-4090-94af-6452509b6c23",
   "metadata": {
    "execution": {
     "iopub.execute_input": "2023-03-06T17:26:24.636941Z",
     "iopub.status.busy": "2023-03-06T17:26:24.636403Z",
     "iopub.status.idle": "2023-03-06T17:26:25.486106Z",
     "shell.execute_reply": "2023-03-06T17:26:25.485791Z",
     "shell.execute_reply.started": "2023-03-06T17:26:24.636912Z"
    },
    "tags": []
   },
   "outputs": [],
   "source": [
    "import os\n",
    "\n",
    "import polars as pl\n",
    "import numpy as np\n",
    "\n",
    "from glob import glob\n",
    "from tqdm import tqdm"
   ]
  },
  {
   "cell_type": "code",
   "execution_count": 3,
   "id": "fcc5ceac-8c95-4391-99db-58114d6c94cb",
   "metadata": {
    "execution": {
     "iopub.execute_input": "2023-03-06T17:26:27.065598Z",
     "iopub.status.busy": "2023-03-06T17:26:27.064995Z",
     "iopub.status.idle": "2023-03-06T17:26:27.077360Z",
     "shell.execute_reply": "2023-03-06T17:26:27.076465Z",
     "shell.execute_reply.started": "2023-03-06T17:26:27.065560Z"
    },
    "tags": []
   },
   "outputs": [
    {
     "data": {
      "text/plain": [
       "[]"
      ]
     },
     "execution_count": 3,
     "metadata": {},
     "output_type": "execute_result"
    }
   ],
   "source": [
    "ls_path = sorted(glob(\"../valid_pairs/*.rm_dup_pairs.allValidPairs\"))\n",
    "ls_path"
   ]
  },
  {
   "cell_type": "code",
   "execution_count": 3,
   "id": "97055f92-a747-4be2-bdb3-952f9b97f8bf",
   "metadata": {
    "execution": {
     "iopub.execute_input": "2023-02-07T06:01:30.866298Z",
     "iopub.status.busy": "2023-02-07T06:01:30.865651Z",
     "iopub.status.idle": "2023-02-07T06:22:14.978573Z",
     "shell.execute_reply": "2023-02-07T06:22:14.977145Z",
     "shell.execute_reply.started": "2023-02-07T06:01:30.866236Z"
    },
    "tags": []
   },
   "outputs": [
    {
     "name": "stderr",
     "output_type": "stream",
     "text": [
      "100%|█████████████████████████████████████████████████████████████████████| 9/9 [20:44<00:00, 138.23s/it]\n"
     ]
    },
    {
     "data": {
      "text/plain": [
       "[137086054,\n",
       " 278903904,\n",
       " 314471781,\n",
       " 587565817,\n",
       " 607425712,\n",
       " 612839424,\n",
       " 580538160,\n",
       " 174509415,\n",
       " 430033524]"
      ]
     },
     "execution_count": 3,
     "metadata": {},
     "output_type": "execute_result"
    }
   ],
   "source": [
    "ls_row_counts = []\n",
    "\n",
    "for path in tqdm(ls_path):\n",
    "    row_count = (\n",
    "        pl.read_csv(\n",
    "            path,\n",
    "            has_header=False,\n",
    "            sep='\\t',\n",
    "            n_threads=os.cpu_count() - 1,\n",
    "            # n_rows=1000\n",
    "        )\n",
    "        .shape[0]\n",
    "    )\n",
    "    ls_row_counts.append(row_count)\n",
    "ls_row_counts"
   ]
  },
  {
   "cell_type": "code",
   "execution_count": 22,
   "id": "bd41ee52-3174-4d96-970c-cd36fc04f41c",
   "metadata": {
    "execution": {
     "iopub.execute_input": "2023-02-07T06:26:17.242756Z",
     "iopub.status.busy": "2023-02-07T06:26:17.241762Z",
     "iopub.status.idle": "2023-02-07T06:26:17.257014Z",
     "shell.execute_reply": "2023-02-07T06:26:17.254693Z",
     "shell.execute_reply.started": "2023-02-07T06:26:17.242685Z"
    },
    "tags": []
   },
   "outputs": [
    {
     "data": {
      "text/plain": [
       "9"
      ]
     },
     "execution_count": 22,
     "metadata": {},
     "output_type": "execute_result"
    }
   ],
   "source": [
    "len(ls_row_counts)"
   ]
  },
  {
   "cell_type": "code",
   "execution_count": 28,
   "id": "335ac736-b47d-4746-8338-8cf4cd41fe74",
   "metadata": {
    "execution": {
     "iopub.execute_input": "2023-02-07T06:27:36.787014Z",
     "iopub.status.busy": "2023-02-07T06:27:36.786262Z",
     "iopub.status.idle": "2023-02-07T06:27:36.804486Z",
     "shell.execute_reply": "2023-02-07T06:27:36.802167Z",
     "shell.execute_reply.started": "2023-02-07T06:27:36.786951Z"
    },
    "tags": []
   },
   "outputs": [
    {
     "data": {
      "text/html": [
       "<div>\n",
       "<style scoped>\n",
       "    .dataframe tbody tr th:only-of-type {\n",
       "        vertical-align: middle;\n",
       "    }\n",
       "\n",
       "    .dataframe tbody tr th {\n",
       "        vertical-align: top;\n",
       "    }\n",
       "\n",
       "    .dataframe thead th {\n",
       "        text-align: right;\n",
       "    }\n",
       "\n",
       "    .dataframe td {\n",
       "        white-space: pre;\n",
       "    }\n",
       "\n",
       "    .dataframe td {\n",
       "        padding-top: 0;\n",
       "    }\n",
       "\n",
       "    .dataframe td {\n",
       "        padding-bottom: 0;\n",
       "    }\n",
       "\n",
       "    .dataframe td {\n",
       "        line-height: 95%;\n",
       "    }\n",
       "</style>\n",
       "<table border=\"1\" class=\"dataframe\" >\n",
       "<small>shape: (9, 2)</small>\n",
       "<thead>\n",
       "<tr>\n",
       "<th>\n",
       "sample_name\n",
       "</th>\n",
       "<th>\n",
       "valid_pairs\n",
       "</th>\n",
       "</tr>\n",
       "<tr>\n",
       "<td>\n",
       "str\n",
       "</td>\n",
       "<td>\n",
       "i64\n",
       "</td>\n",
       "</tr>\n",
       "</thead>\n",
       "<tbody>\n",
       "<tr>\n",
       "<td>\n",
       "&quot;293T_HiC_DddA1...\n",
       "</td>\n",
       "<td>\n",
       "137086054\n",
       "</td>\n",
       "</tr>\n",
       "<tr>\n",
       "<td>\n",
       "&quot;293T_HiC_DddA1...\n",
       "</td>\n",
       "<td>\n",
       "278903904\n",
       "</td>\n",
       "</tr>\n",
       "<tr>\n",
       "<td>\n",
       "&quot;293T_HiC_DddA1...\n",
       "</td>\n",
       "<td>\n",
       "314471781\n",
       "</td>\n",
       "</tr>\n",
       "<tr>\n",
       "<td>\n",
       "&quot;293T_HiC_DddAw...\n",
       "</td>\n",
       "<td>\n",
       "587565817\n",
       "</td>\n",
       "</tr>\n",
       "<tr>\n",
       "<td>\n",
       "&quot;293T_HiC_DddAw...\n",
       "</td>\n",
       "<td>\n",
       "607425712\n",
       "</td>\n",
       "</tr>\n",
       "<tr>\n",
       "<td>\n",
       "&quot;293T_HiC_GFP_r...\n",
       "</td>\n",
       "<td>\n",
       "612839424\n",
       "</td>\n",
       "</tr>\n",
       "<tr>\n",
       "<td>\n",
       "&quot;293T_HiC_GFP_r...\n",
       "</td>\n",
       "<td>\n",
       "580538160\n",
       "</td>\n",
       "</tr>\n",
       "<tr>\n",
       "<td>\n",
       "&quot;293T_HiC_GFP_r...\n",
       "</td>\n",
       "<td>\n",
       "174509415\n",
       "</td>\n",
       "</tr>\n",
       "<tr>\n",
       "<td>\n",
       "&quot;293T_HiC_Natur...\n",
       "</td>\n",
       "<td>\n",
       "430033524\n",
       "</td>\n",
       "</tr>\n",
       "</tbody>\n",
       "</table>\n",
       "</div>"
      ],
      "text/plain": [
       "shape: (9, 2)\n",
       "┌─────────────────────────────────────┬─────────────┐\n",
       "│ sample_name                         ┆ valid_pairs │\n",
       "│ ---                                 ┆ ---         │\n",
       "│ str                                 ┆ i64         │\n",
       "╞═════════════════════════════════════╪═════════════╡\n",
       "│ 293T_HiC_DddA11.DdCBE_JAK2_rep1.... ┆ 137086054   │\n",
       "├╌╌╌╌╌╌╌╌╌╌╌╌╌╌╌╌╌╌╌╌╌╌╌╌╌╌╌╌╌╌╌╌╌╌╌╌╌┼╌╌╌╌╌╌╌╌╌╌╌╌╌┤\n",
       "│ 293T_HiC_DddA11.DdCBE_SIRT6_rep1... ┆ 278903904   │\n",
       "├╌╌╌╌╌╌╌╌╌╌╌╌╌╌╌╌╌╌╌╌╌╌╌╌╌╌╌╌╌╌╌╌╌╌╌╌╌┼╌╌╌╌╌╌╌╌╌╌╌╌╌┤\n",
       "│ 293T_HiC_DddA11.Dead.DdCBE_SIRT6... ┆ 314471781   │\n",
       "├╌╌╌╌╌╌╌╌╌╌╌╌╌╌╌╌╌╌╌╌╌╌╌╌╌╌╌╌╌╌╌╌╌╌╌╌╌┼╌╌╌╌╌╌╌╌╌╌╌╌╌┤\n",
       "│ 293T_HiC_DddAwt.DdCBE_ND6_rep1.r... ┆ 587565817   │\n",
       "├╌╌╌╌╌╌╌╌╌╌╌╌╌╌╌╌╌╌╌╌╌╌╌╌╌╌╌╌╌╌╌╌╌╌╌╌╌┼╌╌╌╌╌╌╌╌╌╌╌╌╌┤\n",
       "│ ...                                 ┆ ...         │\n",
       "├╌╌╌╌╌╌╌╌╌╌╌╌╌╌╌╌╌╌╌╌╌╌╌╌╌╌╌╌╌╌╌╌╌╌╌╌╌┼╌╌╌╌╌╌╌╌╌╌╌╌╌┤\n",
       "│ 293T_HiC_GFP_rep1.rm_dup_pairs.a... ┆ 612839424   │\n",
       "├╌╌╌╌╌╌╌╌╌╌╌╌╌╌╌╌╌╌╌╌╌╌╌╌╌╌╌╌╌╌╌╌╌╌╌╌╌┼╌╌╌╌╌╌╌╌╌╌╌╌╌┤\n",
       "│ 293T_HiC_GFP_rep2.rm_dup_pairs.a... ┆ 580538160   │\n",
       "├╌╌╌╌╌╌╌╌╌╌╌╌╌╌╌╌╌╌╌╌╌╌╌╌╌╌╌╌╌╌╌╌╌╌╌╌╌┼╌╌╌╌╌╌╌╌╌╌╌╌╌┤\n",
       "│ 293T_HiC_GFP_rep3.rm_dup_pairs.a... ┆ 174509415   │\n",
       "├╌╌╌╌╌╌╌╌╌╌╌╌╌╌╌╌╌╌╌╌╌╌╌╌╌╌╌╌╌╌╌╌╌╌╌╌╌┼╌╌╌╌╌╌╌╌╌╌╌╌╌┤\n",
       "│ 293T_HiC_Nature2022.Fig4-WT.rm_d... ┆ 430033524   │\n",
       "└─────────────────────────────────────┴─────────────┘"
      ]
     },
     "execution_count": 28,
     "metadata": {},
     "output_type": "execute_result"
    }
   ],
   "source": [
    "df_vps = pl.DataFrame(\n",
    "    zip([i.split('/')[-1] for i in ls_path], ls_row_counts), \n",
    "    columns=['sample_name', 'valid_pairs']\n",
    ")\n",
    "df_vps"
   ]
  },
  {
   "cell_type": "code",
   "execution_count": 29,
   "id": "86a51e56-8e00-4461-b085-764c808aa336",
   "metadata": {
    "execution": {
     "iopub.execute_input": "2023-02-07T06:27:44.337354Z",
     "iopub.status.busy": "2023-02-07T06:27:44.336683Z",
     "iopub.status.idle": "2023-02-07T06:27:44.395990Z",
     "shell.execute_reply": "2023-02-07T06:27:44.393803Z",
     "shell.execute_reply.started": "2023-02-07T06:27:44.337289Z"
    },
    "tags": []
   },
   "outputs": [],
   "source": [
    "df_vps.write_csv('tables/down-sampling_valid-pairs_per_sample.csv')"
   ]
  },
  {
   "cell_type": "code",
   "execution_count": 60,
   "id": "da6c0484-1131-4549-becf-56928688745d",
   "metadata": {
    "execution": {
     "iopub.execute_input": "2023-02-07T07:29:00.734798Z",
     "iopub.status.busy": "2023-02-07T07:29:00.733779Z",
     "iopub.status.idle": "2023-02-07T07:29:00.870674Z",
     "shell.execute_reply": "2023-02-07T07:29:00.868440Z",
     "shell.execute_reply.started": "2023-02-07T07:29:00.734737Z"
    },
    "tags": []
   },
   "outputs": [
    {
     "data": {
      "text/plain": [
       "137086054"
      ]
     },
     "execution_count": 60,
     "metadata": {},
     "output_type": "execute_result"
    }
   ],
   "source": [
    "sample_count_min = df_vps['valid_pairs'].min()\n",
    "sample_count_min"
   ]
  },
  {
   "cell_type": "code",
   "execution_count": 57,
   "id": "e6561cf6-dd00-49da-b57c-6142d0322a5d",
   "metadata": {
    "execution": {
     "iopub.execute_input": "2023-02-07T06:36:51.665386Z",
     "iopub.status.busy": "2023-02-07T06:36:51.664752Z",
     "iopub.status.idle": "2023-02-07T06:36:51.673262Z",
     "shell.execute_reply": "2023-02-07T06:36:51.671087Z",
     "shell.execute_reply.started": "2023-02-07T06:36:51.665324Z"
    },
    "tags": []
   },
   "outputs": [],
   "source": [
    "random_seed = 123"
   ]
  },
  {
   "cell_type": "code",
   "execution_count": 58,
   "id": "ce295e53-7871-42d8-8d71-0f36a221424f",
   "metadata": {
    "execution": {
     "iopub.execute_input": "2023-02-07T06:36:53.666546Z",
     "iopub.status.busy": "2023-02-07T06:36:53.665884Z",
     "iopub.status.idle": "2023-02-07T06:36:53.675605Z",
     "shell.execute_reply": "2023-02-07T06:36:53.673233Z",
     "shell.execute_reply.started": "2023-02-07T06:36:53.666483Z"
    },
    "tags": []
   },
   "outputs": [],
   "source": [
    "path_out = '../valid_pairs_down_sampling'\n",
    "os.makedirs(path_out, exist_ok=True)"
   ]
  },
  {
   "cell_type": "code",
   "execution_count": 59,
   "id": "2befd3fe-f575-41a4-8fd6-5c95aecc342a",
   "metadata": {
    "execution": {
     "iopub.execute_input": "2023-02-07T06:37:12.697502Z",
     "iopub.status.busy": "2023-02-07T06:37:12.696027Z",
     "iopub.status.idle": "2023-02-07T06:59:17.013970Z",
     "shell.execute_reply": "2023-02-07T06:59:17.012236Z",
     "shell.execute_reply.started": "2023-02-07T06:37:12.697349Z"
    },
    "tags": []
   },
   "outputs": [
    {
     "name": "stderr",
     "output_type": "stream",
     "text": [
      "100%|█████████████████████████████████████████████████████████████████████| 9/9 [22:04<00:00, 147.14s/it]\n"
     ]
    }
   ],
   "source": [
    "for path in tqdm(ls_path):\n",
    "    (\n",
    "        pl.read_csv(\n",
    "            path,\n",
    "            has_header=False,\n",
    "            sep='\\t',\n",
    "            n_threads=os.cpu_count() - 1,\n",
    "            # n_rows=1000\n",
    "        )\n",
    "        .sample(n=sample_count_min, seed=random_seed)\n",
    "        .write_csv(\n",
    "            path.replace('../valid_pairs', path_out),\n",
    "            has_header=False,\n",
    "            sep='\\t'\n",
    "        )\n",
    "    )"
   ]
  },
  {
   "cell_type": "code",
   "execution_count": null,
   "id": "2c9cc693-afa0-44c7-b133-0986111a9a89",
   "metadata": {},
   "outputs": [],
   "source": []
  }
 ],
 "metadata": {
  "kernelspec": {
   "display_name": "Python 3 (ipykernel)",
   "language": "python",
   "name": "python3"
  },
  "language_info": {
   "codemirror_mode": {
    "name": "ipython",
    "version": 3
   },
   "file_extension": ".py",
   "mimetype": "text/x-python",
   "name": "python",
   "nbconvert_exporter": "python",
   "pygments_lexer": "ipython3",
   "version": "3.10.9"
  }
 },
 "nbformat": 4,
 "nbformat_minor": 5
}
