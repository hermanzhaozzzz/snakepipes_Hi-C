{
 "cells": [
  {
   "cell_type": "markdown",
   "id": "326618fc-346d-42c8-adf3-21eeb028b106",
   "metadata": {},
   "source": [
    "https://www.bioconductor.org/packages/release/bioc/vignettes/HiCDOC/inst/doc/HiCDOC.html"
   ]
  },
  {
   "cell_type": "code",
   "execution_count": null,
   "id": "077c55a9-e936-4904-b0ba-a0bce3b2696e",
   "metadata": {},
   "outputs": [],
   "source": []
  }
 ],
 "metadata": {
  "kernelspec": {
   "display_name": "R",
   "language": "R",
   "name": "ir"
  },
  "language_info": {
   "codemirror_mode": "r",
   "file_extension": ".r",
   "mimetype": "text/x-r-source",
   "name": "R",
   "pygments_lexer": "r",
   "version": "4.2.2"
  },
  "widgets": {
   "application/vnd.jupyter.widget-state+json": {
    "state": {},
    "version_major": 2,
    "version_minor": 0
   }
  }
 },
 "nbformat": 4,
 "nbformat_minor": 5
}
