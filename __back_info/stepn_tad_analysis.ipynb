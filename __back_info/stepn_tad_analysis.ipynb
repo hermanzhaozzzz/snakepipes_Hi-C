{
 "cells": [
  {
   "cell_type": "markdown",
   "id": "8c83a3d7-460f-45d7-b8d1-975b024cf86e",
   "metadata": {},
   "source": [
    "https://www.bioconductor.org/packages/release/bioc/vignettes/TADCompare/inst/doc/TADCompare.html"
   ]
  },
  {
   "cell_type": "markdown",
   "id": "d7738ad7-bf9c-4221-9ddf-74c5c400172d",
   "metadata": {},
   "source": [
    "https://www.bioconductor.org/packages/devel/bioc/manuals/TADCompare/man/TADCompare.pdf"
   ]
  },
  {
   "cell_type": "markdown",
   "id": "ef5c1559-d7fc-4f66-a89a-3a22d9c7aab6",
   "metadata": {},
   "source": [
    "https://www.bioconductor.org/packages/devel/bioc/manuals/InTAD/man/InTAD.pdf"
   ]
  },
  {
   "cell_type": "code",
   "execution_count": null,
   "id": "823ecb4b-4f86-4a6d-9b63-3bd2d2430d05",
   "metadata": {},
   "outputs": [],
   "source": []
  }
 ],
 "metadata": {
  "kernelspec": {
   "display_name": "R",
   "language": "R",
   "name": "ir"
  },
  "language_info": {
   "codemirror_mode": "r",
   "file_extension": ".r",
   "mimetype": "text/x-r-source",
   "name": "R",
   "pygments_lexer": "r",
   "version": "4.2.2"
  },
  "widgets": {
   "application/vnd.jupyter.widget-state+json": {
    "state": {},
    "version_major": 2,
    "version_minor": 0
   }
  }
 },
 "nbformat": 4,
 "nbformat_minor": 5
}
